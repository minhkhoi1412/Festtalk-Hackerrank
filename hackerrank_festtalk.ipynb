{
 "cells": [
  {
   "cell_type": "markdown",
   "metadata": {},
   "source": [
    "# Staircase"
   ]
  },
  {
   "cell_type": "code",
   "execution_count": 22,
   "metadata": {},
   "outputs": [
    {
     "name": "stdin",
     "output_type": "stream",
     "text": [
      " 6\n"
     ]
    },
    {
     "name": "stdout",
     "output_type": "stream",
     "text": [
      "     #\n",
      "    ##\n",
      "   ###\n",
      "  ####\n",
      " #####\n",
      "######\n"
     ]
    }
   ],
   "source": [
    "#!/bin/python3\n",
    "\n",
    "import math\n",
    "import os\n",
    "import random\n",
    "import re\n",
    "import sys\n",
    "\n",
    "# Complete the staircase function below.\n",
    "def staircase(n):\n",
    "    if 0 < n <= 100:\n",
    "        a = n - 2\n",
    "        for stairs in range(1, n):\n",
    "            print(' ' * a, '#' * stairs)\n",
    "            a -= 1\n",
    "        print('#' * n)\n",
    "if __name__ == '__main__':\n",
    "    n = int(input())\n",
    "\n",
    "    staircase(n)\n"
   ]
  },
  {
   "cell_type": "markdown",
   "metadata": {},
   "source": [
    "# The full counting sort"
   ]
  },
  {
   "cell_type": "code",
   "execution_count": 24,
   "metadata": {},
   "outputs": [
    {
     "name": "stdin",
     "output_type": "stream",
     "text": [
      " 4\n",
      " 0 a\n",
      " 1 b\n",
      " 0 c\n",
      " 1 d\n"
     ]
    },
    {
     "name": "stdout",
     "output_type": "stream",
     "text": [
      "- c - d\n"
     ]
    }
   ],
   "source": [
    "#!/bin/python3\n",
    "\n",
    "import math\n",
    "import os\n",
    "import random\n",
    "import re\n",
    "import sys\n",
    "\n",
    "# Complete the countSort function below.\n",
    "def countSort(arr):\n",
    "    def add_dashes(length, words):\n",
    "        for y in range(int(length / 2)):\n",
    "            words[y] = \"-\"\n",
    "        return words\n",
    "\n",
    "    def sort_numbers(length, numbers, words):\n",
    "        ordered_words = [\"-\"] * length\n",
    "        indexes = [i[0] for i in sorted(enumerate(numbers), key = lambda x: x[1])]\n",
    "        for z in range(length):\n",
    "            previous = indexes[z]\n",
    "            ordered_words[z] = words[previous]\n",
    "        return ordered_words\n",
    "    \n",
    "    arr = add_dashes(n, arr)\n",
    "    ordered_words = sort_numbers(n, numbers, arr)\n",
    "    print(' '.join(map(str, ordered_words)))\n",
    "\n",
    "if __name__ == '__main__':\n",
    "    n = int(input().strip())\n",
    "    numbers = []\n",
    "    arr = []\n",
    "\n",
    "    for _ in range(n):\n",
    "        number, word = input().rstrip().split()\n",
    "        numbers.append(int(number))\n",
    "        arr.append(word)\n",
    "\n",
    "    countSort(arr)\n"
   ]
  },
  {
   "cell_type": "code",
   "execution_count": 33,
   "metadata": {},
   "outputs": [
    {
     "name": "stdout",
     "output_type": "stream",
     "text": [
      "(0, 0)\n",
      "(2, 0)\n",
      "(1, 1)\n",
      "(3, 1)\n"
     ]
    }
   ],
   "source": [
    "for i in sorted(enumerate(numbers), key = lambda x: x[1]):\n",
    "    print(i)"
   ]
  },
  {
   "cell_type": "markdown",
   "metadata": {},
   "source": [
    "# Minimum Loss"
   ]
  },
  {
   "cell_type": "code",
   "execution_count": 44,
   "metadata": {},
   "outputs": [
    {
     "name": "stdin",
     "output_type": "stream",
     "text": [
      " 5\n",
      " 20 7 8 2 5\n"
     ]
    },
    {
     "name": "stdout",
     "output_type": "stream",
     "text": [
      "2\n"
     ]
    }
   ],
   "source": [
    "#!/bin/python3\n",
    "\n",
    "import math\n",
    "import os\n",
    "import random\n",
    "import re\n",
    "import sys\n",
    "import bisect\n",
    "\n",
    "# Complete the minimumLoss function below.\n",
    "def minimumLoss(price):\n",
    "    cost=float('inf')\n",
    "    stack=[price[0]]\n",
    "    for num in price[1:]:\n",
    "        if num<stack[0]:\n",
    "            cost=min(cost,stack[0]-num)\n",
    "            stack.insert(0,num)\n",
    "        else:\n",
    "            index=bisect.bisect(stack,num)\n",
    "            if index<len(stack):\n",
    "                cost=min(cost,stack[index]-num)\n",
    "            stack.insert(index,num)\n",
    "    return cost, stack\n",
    "\n",
    "if __name__ == '__main__':\n",
    "\n",
    "    n = int(input())\n",
    "    price = list(map(int, input().rstrip().split()))\n",
    "    result, stack = minimumLoss(price)\n",
    "    print(result)\n"
   ]
  },
  {
   "cell_type": "code",
   "execution_count": 45,
   "metadata": {},
   "outputs": [
    {
     "data": {
      "text/plain": [
       "[2, 5, 7, 8, 20]"
      ]
     },
     "execution_count": 45,
     "metadata": {},
     "output_type": "execute_result"
    }
   ],
   "source": [
    "stack"
   ]
  },
  {
   "cell_type": "markdown",
   "metadata": {},
   "source": [
    "# Absolute Element Sums"
   ]
  },
  {
   "cell_type": "code",
   "execution_count": 60,
   "metadata": {},
   "outputs": [
    {
     "name": "stdin",
     "output_type": "stream",
     "text": [
      " 3\n",
      " -1 2 -3\n",
      " 3\n",
      " 1 -2 3\n"
     ]
    },
    {
     "name": "stdout",
     "output_type": "stream",
     "text": [
      "thresh_idx before:  2\n",
      "query:  1\n",
      "thresh:  -1\n",
      "thresh_idx:  2\n",
      "tot_sum before 6\n",
      "5\n",
      "query:  -2\n",
      "thresh:  1\n",
      "thresh_idx:  2\n",
      "tot_sum before 6\n",
      "7\n",
      "query:  3\n",
      "thresh:  -2\n",
      "thresh_idx:  1\n",
      "tot_sum before 4\n",
      "6\n"
     ]
    }
   ],
   "source": [
    "import bisect\n",
    "\n",
    "n = int(input())\n",
    "nums = [int(num) for num in input().split(' ')]\n",
    "\n",
    "q = int(input())\n",
    "queries = [int(num) for num in input().split(' ')]\n",
    "\n",
    "nums.sort()\n",
    "cumsum = [0]\n",
    "\n",
    "for num in nums:\n",
    "    cumsum.append(cumsum[-1] + num)\n",
    "    \n",
    "thresh = 0\n",
    "thresh_idx = bisect.bisect(nums, thresh)\n",
    "delta = 0\n",
    "print('thresh_idx before: ' , thresh_idx)\n",
    "\n",
    "for query in queries:\n",
    "    thresh -= query\n",
    "    print('query: ', query)\n",
    "    print('thresh: ', thresh)\n",
    "    thresh_idx = bisect.bisect(nums, thresh)\n",
    "    print('thresh_idx: ' , thresh_idx)\n",
    "    tot_sum = cumsum[-1] - 2*cumsum[thresh_idx]\n",
    "    print('tot_sum before', tot_sum)\n",
    "    tot_sum += thresh * (2*thresh_idx - len(nums))\n",
    "    print(tot_sum)\n",
    "\n",
    "#"
   ]
  },
  {
   "cell_type": "code",
   "execution_count": 56,
   "metadata": {},
   "outputs": [
    {
     "data": {
      "text/plain": [
       "[0, -3, -4, -2]"
      ]
     },
     "execution_count": 56,
     "metadata": {},
     "output_type": "execute_result"
    }
   ],
   "source": [
    "cumsum"
   ]
  },
  {
   "cell_type": "code",
   "execution_count": 54,
   "metadata": {},
   "outputs": [
    {
     "data": {
      "text/plain": [
       "[1, -2, 3]"
      ]
     },
     "execution_count": 54,
     "metadata": {},
     "output_type": "execute_result"
    }
   ],
   "source": [
    "queries"
   ]
  },
  {
   "cell_type": "code",
   "execution_count": 55,
   "metadata": {},
   "outputs": [
    {
     "data": {
      "text/plain": [
       "[-3, -1, 2]"
      ]
     },
     "execution_count": 55,
     "metadata": {},
     "output_type": "execute_result"
    }
   ],
   "source": [
    "nums"
   ]
  },
  {
   "cell_type": "code",
   "execution_count": 57,
   "metadata": {},
   "outputs": [
    {
     "data": {
      "text/plain": [
       "3"
      ]
     },
     "execution_count": 57,
     "metadata": {},
     "output_type": "execute_result"
    }
   ],
   "source": [
    "len(nums)"
   ]
  },
  {
   "cell_type": "markdown",
   "metadata": {},
   "source": [
    "# K Factorization"
   ]
  },
  {
   "cell_type": "code",
   "execution_count": 64,
   "metadata": {
    "collapsed": true,
    "jupyter": {
     "outputs_hidden": true
    }
   },
   "outputs": [
    {
     "name": "stdin",
     "output_type": "stream",
     "text": [
      " 12 3\n",
      " 2 3 4\n"
     ]
    },
    {
     "name": "stdout",
     "output_type": "stream",
     "text": [
      "cur:  1\n",
      "A:  [2, 3, 4]\n",
      "result:  [1]\n",
      "index:  0\n",
      "element:  2\n",
      "result after:  [1, 2]\n",
      "cur:  2\n",
      "A:  [2, 3, 4]\n",
      "result:  [1, 2]\n",
      "index:  0\n",
      "element:  2\n",
      "result after:  [1, 2, 4]\n",
      "cur:  4\n",
      "A:  [2, 3, 4]\n",
      "result:  [1, 2, 4]\n",
      "index:  0\n",
      "element:  2\n",
      "result after:  [1, 2, 4, 8]\n",
      "cur:  8\n",
      "A:  [2, 3, 4]\n",
      "result:  [1, 2, 4, 8]\n",
      "index:  0\n",
      "element:  2\n",
      "result after:  [1, 2, 4, 8, 16]\n",
      "cur:  16\n",
      "A:  [2, 3, 4]\n",
      "result:  [1, 2, 4, 8, 16]\n",
      "result after pop:  [1, 2, 4, 8]\n",
      "****************\n",
      "index:  1\n",
      "element:  3\n",
      "result after:  [1, 2, 4, 8, 24]\n",
      "cur:  24\n",
      "A:  [3, 4]\n",
      "result:  [1, 2, 4, 8, 24]\n",
      "result after pop:  [1, 2, 4, 8]\n",
      "****************\n",
      "index:  2\n",
      "element:  4\n",
      "result after:  [1, 2, 4, 8, 32]\n",
      "cur:  32\n",
      "A:  [4]\n",
      "result:  [1, 2, 4, 8, 32]\n",
      "result after pop:  [1, 2, 4, 8]\n",
      "****************\n",
      "result after pop:  [1, 2, 4]\n",
      "****************\n",
      "index:  1\n",
      "element:  3\n",
      "result after:  [1, 2, 4, 12]\n",
      "cur:  12\n",
      "A:  [3, 4]\n",
      "result:  [1, 2, 4, 12]\n",
      "allres:  [[1, 2, 4, 12]]\n",
      "result after pop:  [1, 2, 4]\n",
      "****************\n",
      "index:  2\n",
      "element:  4\n",
      "result after:  [1, 2, 4, 16]\n",
      "cur:  16\n",
      "A:  [4]\n",
      "result:  [1, 2, 4, 16]\n",
      "result after pop:  [1, 2, 4]\n",
      "****************\n",
      "result after pop:  [1, 2]\n",
      "****************\n",
      "index:  1\n",
      "element:  3\n",
      "result after:  [1, 2, 6]\n",
      "cur:  6\n",
      "A:  [3, 4]\n",
      "result:  [1, 2, 6]\n",
      "index:  0\n",
      "element:  3\n",
      "result after:  [1, 2, 6, 18]\n",
      "cur:  18\n",
      "A:  [3, 4]\n",
      "result:  [1, 2, 6, 18]\n",
      "result after pop:  [1, 2, 6]\n",
      "****************\n",
      "index:  1\n",
      "element:  4\n",
      "result after:  [1, 2, 6, 24]\n",
      "cur:  24\n",
      "A:  [4]\n",
      "result:  [1, 2, 6, 24]\n",
      "result after pop:  [1, 2, 6]\n",
      "****************\n",
      "result after pop:  [1, 2]\n",
      "****************\n",
      "index:  2\n",
      "element:  4\n",
      "result after:  [1, 2, 8]\n",
      "cur:  8\n",
      "A:  [4]\n",
      "result:  [1, 2, 8]\n",
      "index:  0\n",
      "element:  4\n",
      "result after:  [1, 2, 8, 32]\n",
      "cur:  32\n",
      "A:  [4]\n",
      "result:  [1, 2, 8, 32]\n",
      "result after pop:  [1, 2, 8]\n",
      "****************\n",
      "result after pop:  [1, 2]\n",
      "****************\n",
      "result after pop:  [1]\n",
      "****************\n",
      "index:  1\n",
      "element:  3\n",
      "result after:  [1, 3]\n",
      "cur:  3\n",
      "A:  [3, 4]\n",
      "result:  [1, 3]\n",
      "index:  0\n",
      "element:  3\n",
      "result after:  [1, 3, 9]\n",
      "cur:  9\n",
      "A:  [3, 4]\n",
      "result:  [1, 3, 9]\n",
      "index:  0\n",
      "element:  3\n",
      "result after:  [1, 3, 9, 27]\n",
      "cur:  27\n",
      "A:  [3, 4]\n",
      "result:  [1, 3, 9, 27]\n",
      "result after pop:  [1, 3, 9]\n",
      "****************\n",
      "index:  1\n",
      "element:  4\n",
      "result after:  [1, 3, 9, 36]\n",
      "cur:  36\n",
      "A:  [4]\n",
      "result:  [1, 3, 9, 36]\n",
      "result after pop:  [1, 3, 9]\n",
      "****************\n",
      "result after pop:  [1, 3]\n",
      "****************\n",
      "index:  1\n",
      "element:  4\n",
      "result after:  [1, 3, 12]\n",
      "cur:  12\n",
      "A:  [4]\n",
      "result:  [1, 3, 12]\n",
      "allres:  [[1, 2, 4, 12], [1, 3, 12]]\n",
      "result after pop:  [1, 3]\n",
      "****************\n",
      "result after pop:  [1]\n",
      "****************\n",
      "index:  2\n",
      "element:  4\n",
      "result after:  [1, 4]\n",
      "cur:  4\n",
      "A:  [4]\n",
      "result:  [1, 4]\n",
      "index:  0\n",
      "element:  4\n",
      "result after:  [1, 4, 16]\n",
      "cur:  16\n",
      "A:  [4]\n",
      "result:  [1, 4, 16]\n",
      "result after pop:  [1, 4]\n",
      "****************\n",
      "result after pop:  [1]\n",
      "****************\n",
      "1 3 12\n"
     ]
    }
   ],
   "source": [
    "#!/bin/python3\n",
    "\n",
    "import math\n",
    "import os\n",
    "import random\n",
    "import re\n",
    "import sys\n",
    "\n",
    "# Complete the kFactorization function below.\n",
    "allres = []\n",
    "\n",
    "def k_factorization(n, A, cur, result):\n",
    "    print('cur: ', cur)\n",
    "    print('A: ', A)\n",
    "    print('result: ', result)\n",
    "    if cur == n:\n",
    "        allres.append(list(result))\n",
    "        print('allres: ', allres)\n",
    "        return True\n",
    "    elif cur > n:\n",
    "        return False\n",
    "    \n",
    "    for index, element in enumerate(A):\n",
    "        result.append(cur*element)\n",
    "        print('index: ', index)\n",
    "        print('element: ', element)\n",
    "        print('result after: ', result)\n",
    "        k_factorization(n, A[index:], cur*element, result)\n",
    "        result.pop()\n",
    "        print('result after pop: ', result)\n",
    "        print('****************')\n",
    "    return False\n",
    "\n",
    "if __name__ == '__main__':\n",
    "\n",
    "    nk = input().split()\n",
    "    n = int(nk[0])\n",
    "    k = int(nk[1])\n",
    "    A = sorted(list(map(int, input().strip().split(' '))))\n",
    "\n",
    "    result = [1]\n",
    "    \n",
    "    k_factorization(n, A, 1, result)\n",
    "    \n",
    "    if not allres:\n",
    "        print(-1)\n",
    "    else:\n",
    "        print(\" \".join(list(map(str, min(allres, key = len)))))\n"
   ]
  },
  {
   "cell_type": "markdown",
   "metadata": {},
   "source": [
    "# Kingdom Connectivity"
   ]
  },
  {
   "cell_type": "code",
   "execution_count": 7,
   "metadata": {},
   "outputs": [
    {
     "name": "stdin",
     "output_type": "stream",
     "text": [
      " 5 5\n",
      " 1 2\n",
      " 2 4\n",
      " 2 3\n",
      " 3 4\n",
      " 4 5\n"
     ]
    },
    {
     "name": "stdout",
     "output_type": "stream",
     "text": [
      "2\n"
     ]
    }
   ],
   "source": [
    "mod = 10**9\n",
    "N, M = map(int, input().split())\n",
    "G = [[] for i in range(N+1)]\n",
    "\n",
    "for m in range(M):\n",
    "   x, y = map(int, input().split())\n",
    "   G[y].append(x)\n",
    "    \n",
    "infinity = 0\n",
    "active = [0] * (N+1)\n",
    "reachable = [0] * (N+1)\n",
    "visited = [0] * (N+1)\n",
    "paths = [0] * (N+1)\n",
    "back_edges = [0] * (N+1)\n",
    "reachable[1] = 1\n",
    "visited[1] = 1\n",
    "paths[1] = 1\n",
    "\n",
    "def find_paths(i):\n",
    "    global infinity\n",
    "    if active[i]:\n",
    "        back_edges[i] += 1\n",
    "        return 1\n",
    "    if visited[i]:\n",
    "        return 0\n",
    "    visited[i] = 1\n",
    "    active[i] = 1\n",
    "    p = 0\n",
    "    loops = 0\n",
    "    for j in G[i]:\n",
    "        loops += find_paths(j)\n",
    "        p += paths[j]\n",
    "        if reachable[j]: reachable[i] = 1\n",
    "    paths[i] = p % mod\n",
    "    active[i] = 0\n",
    "    if loops and reachable[i]: infinity = 1\n",
    "    return loops - back_edges[i]\n",
    "\n",
    "find_paths(N)\n",
    "\n",
    "if infinity:\n",
    "    print('INFINITE PATHS')\n",
    "else:\n",
    "    print(paths[N])\n"
   ]
  },
  {
   "cell_type": "code",
   "execution_count": null,
   "metadata": {},
   "outputs": [],
   "source": []
  }
 ],
 "metadata": {
  "kernelspec": {
   "display_name": "Python 3",
   "language": "python",
   "name": "python3"
  },
  "language_info": {
   "codemirror_mode": {
    "name": "ipython",
    "version": 3
   },
   "file_extension": ".py",
   "mimetype": "text/x-python",
   "name": "python",
   "nbconvert_exporter": "python",
   "pygments_lexer": "ipython3",
   "version": "3.7.0"
  }
 },
 "nbformat": 4,
 "nbformat_minor": 4
}
